{
 "cells": [
  {
   "cell_type": "code",
   "execution_count": 4,
   "id": "7a477065",
   "metadata": {},
   "outputs": [
    {
     "name": "stderr",
     "output_type": "stream",
     "text": [
      "/tmp/ipykernel_3588628/2727735753.py:15: UserWarning: swmr=True only affects read ('r') mode. For swmr write mode, set f.swmr_mode = True after opening the file.\n",
      "  with h5py.File(new_file, 'w', libver='latest', swmr=True) as f:\n"
     ]
    }
   ],
   "source": [
    "import numpy as np\n",
    "\n",
    "from scipy import stats\n",
    "# from pyts.image import MarkovTransitionField,GramianAngularField\n",
    "import numpy as np\n",
    "import h5py\n",
    "from PIL import Image\n",
    "new_file='example_data_w8.hdf5'\n",
    "\n",
    "data1 = np.random.randn(10,200,100) ##trial_number, time, feature_dim\n",
    "data2 = np.random.randn(10,200,20)\n",
    "\n",
    "W=8 ## window size\n",
    "\n",
    "with h5py.File(new_file, 'w', libver='latest', swmr=True) as f:\n",
    "\n",
    "    # enable single write, multi-read - needed for simultaneous model fitting\n",
    "    f.swmr_mode = True\n",
    "\n",
    "    # create \"image\" HDF5 group\n",
    "    group_i1 = f.create_group('pose')\n",
    "    group_i2 = f.create_group('neural')\n",
    "\n",
    "    for j in range (len(data1)):\n",
    "        for i in range (len(data1[0])-W):\n",
    "            tempi1=np.nan_to_num(data1)[j,i:i+W]\n",
    "            tempi2=np.nan_to_num(data2)[j,i:i+W]\n",
    "\n",
    "\n",
    "            group_i1.create_dataset(str(j)+'_'+str(i), data=tempi1)\n",
    "            group_i2.create_dataset(str(j)+'_'+str(i), data=tempi2)\n",
    "\n"
   ]
  }
 ],
 "metadata": {
  "kernelspec": {
   "display_name": "pt",
   "language": "python",
   "name": "python3"
  },
  "language_info": {
   "codemirror_mode": {
    "name": "ipython",
    "version": 3
   },
   "file_extension": ".py",
   "mimetype": "text/x-python",
   "name": "python",
   "nbconvert_exporter": "python",
   "pygments_lexer": "ipython3",
   "version": "3.10.14"
  }
 },
 "nbformat": 4,
 "nbformat_minor": 5
}
