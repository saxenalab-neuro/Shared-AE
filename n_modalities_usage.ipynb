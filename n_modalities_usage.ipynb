{
 "cells": [
  {
   "cell_type": "code",
   "execution_count": null,
   "id": "2848486b",
   "metadata": {},
   "outputs": [],
   "source": [
    "from n_modals.train import train_model\n",
    "\n",
    "import numpy as np\n",
    "latent_dim=50\n",
    "batch_size=256\n",
    "random_seed=1\n",
    "kernel_size=5 ## for cs divergence\n",
    "window_size=8\n",
    "drop=2\n",
    "weight1= 30 #weight for shared behavioral vs shared neural\n",
    "weight2= 30 #weight for private behavioral vs private neural\n",
    "\n",
    "weight3= 30 #weigth for shared behavioral vs private behavioral\n",
    "weight4= 30 #weigth for shared neural vs private neural\n",
    "print_freq=1 # print loss for every xx iterations\n",
    "epochs=10\n",
    "save_freq=2 ## save the model every xx epochs\n",
    "folder_path,behavioral_data_path,neural_data_path= '','example_data_w8.hdf5','example_data_w8.hdf5'### data_folder_location\n",
    "param=[batch_size,random_seed,latent_dim,kernel_size,weight1,weight2,weight3,weight4,window_size,drop,folder_path,behavioral_data_path,neural_data_path,print_freq,epochs,save_freq]#####weight:5, 3\n",
    "train_model(param)"
   ]
  }
 ],
 "metadata": {
  "language_info": {
   "name": "python"
  }
 },
 "nbformat": 4,
 "nbformat_minor": 5
}
