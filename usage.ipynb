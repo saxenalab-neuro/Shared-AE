{
 "cells": [
  {
   "cell_type": "code",
   "execution_count": null,
   "id": "aec81cf4",
   "metadata": {},
   "outputs": [],
   "source": [
    "from two_modals import *\n",
    "\n",
    "import numpy as np\n",
    "\n",
    "param=['image',256,1,0.07,30,50,5,30,30,30,30,9]#####weight:5, 3\n"
   ]
  }
 ],
 "metadata": {
  "kernelspec": {
   "display_name": "pt",
   "language": "python",
   "name": "python3"
  },
  "language_info": {
   "codemirror_mode": {
    "name": "ipython",
    "version": 3
   },
   "file_extension": ".py",
   "mimetype": "text/x-python",
   "name": "python",
   "nbconvert_exporter": "python",
   "pygments_lexer": "ipython3",
   "version": "3.10.14"
  }
 },
 "nbformat": 4,
 "nbformat_minor": 5
}
