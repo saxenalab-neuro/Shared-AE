{
 "cells": [
  {
   "cell_type": "code",
   "execution_count": null,
   "id": "aec81cf4",
   "metadata": {
    "vscode": {
     "languageId": "plaintext"
    }
   },
   "outputs": [],
   "source": [
    "from two_modals import *\n",
    "\n"
   ]
  }
 ],
 "metadata": {
  "language_info": {
   "name": "python"
  }
 },
 "nbformat": 4,
 "nbformat_minor": 5
}
