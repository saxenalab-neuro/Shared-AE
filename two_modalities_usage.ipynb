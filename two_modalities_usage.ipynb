{
 "cells": [
  {
   "cell_type": "code",
   "execution_count": null,
   "id": "aec81cf4",
   "metadata": {},
   "outputs": [
    {
     "name": "stdout",
     "output_type": "stream",
     "text": [
      "Train: [1][1/8]\tBT 1.175 (1.175)\tDT 0.058 (0.058)\tloss 2641.961 (2641.961)csloss 0.000 (0.000)csloss2 0.062 (0.062)csloss3 0.040 (0.040)csloss4 0.044 (0.044)\n",
      "Train: [1][2/8]\tBT 1.008 (1.092)\tDT 0.064 (0.061)\tloss 2263.271 (2452.616)csloss 0.000 (0.000)csloss2 0.072 (0.067)csloss3 0.052 (0.046)csloss4 0.055 (0.050)\n",
      "Train: [1][3/8]\tBT 1.044 (1.076)\tDT 0.062 (0.062)\tloss 1975.877 (2293.703)csloss 0.000 (0.000)csloss2 0.083 (0.072)csloss3 0.066 (0.052)csloss4 0.068 (0.056)\n",
      "Train: [1][4/8]\tBT 0.986 (1.053)\tDT 0.063 (0.062)\tloss 1771.823 (2163.233)csloss 0.000 (0.000)csloss2 0.095 (0.078)csloss3 0.081 (0.060)csloss4 0.082 (0.062)\n",
      "Train: [1][5/8]\tBT 1.048 (1.052)\tDT 0.063 (0.062)\tloss 1619.995 (2054.586)csloss 0.000 (0.000)csloss2 0.107 (0.084)csloss3 0.097 (0.067)csloss4 0.097 (0.069)\n",
      "Train: [1][6/8]\tBT 0.986 (1.041)\tDT 0.063 (0.062)\tloss 1501.500 (1962.405)csloss 0.000 (0.000)csloss2 0.120 (0.090)csloss3 0.113 (0.075)csloss4 0.113 (0.077)\n",
      "Train: [1][7/8]\tBT 0.988 (1.034)\tDT 0.063 (0.062)\tloss 1413.980 (1884.058)csloss 0.000 (0.000)csloss2 0.133 (0.096)csloss3 0.129 (0.082)csloss4 0.128 (0.084)\n",
      "Train: [1][8/8]\tBT 0.579 (0.977)\tDT 0.081 (0.065)\tloss 1335.126 (1847.463)csloss 0.000 (0.000)csloss2 0.146 (0.099)csloss3 0.145 (0.087)csloss4 0.144 (0.088)\n",
      "epoch 1, total time 7.82\n",
      "Train: [2][1/8]\tBT 0.989 (0.989)\tDT 0.058 (0.058)\tloss 1280.717 (1280.717)csloss 0.000 (0.000)csloss2 0.159 (0.159)csloss3 0.161 (0.161)csloss4 0.160 (0.160)\n",
      "Train: [2][2/8]\tBT 1.041 (1.015)\tDT 0.059 (0.059)\tloss 1234.209 (1257.463)csloss 0.000 (0.000)csloss2 0.172 (0.165)csloss3 0.177 (0.169)csloss4 0.175 (0.167)\n",
      "Train: [2][3/8]\tBT 0.983 (1.004)\tDT 0.059 (0.059)\tloss 1199.062 (1237.996)csloss 0.000 (0.000)csloss2 0.184 (0.172)csloss3 0.192 (0.177)csloss4 0.190 (0.175)\n",
      "Train: [2][4/8]\tBT 1.036 (1.012)\tDT 0.059 (0.059)\tloss 1159.271 (1218.315)csloss 0.000 (0.000)csloss2 0.197 (0.178)csloss3 0.207 (0.184)csloss4 0.205 (0.182)\n",
      "Train: [2][5/8]\tBT 0.986 (1.007)\tDT 0.060 (0.059)\tloss 1139.082 (1202.468)csloss 0.000 (0.000)csloss2 0.209 (0.184)csloss3 0.221 (0.192)csloss4 0.220 (0.190)\n",
      "Train: [2][6/8]\tBT 1.038 (1.012)\tDT 0.059 (0.059)\tloss 1110.508 (1187.141)csloss 0.000 (0.000)csloss2 0.222 (0.191)csloss3 0.236 (0.199)csloss4 0.234 (0.197)\n",
      "Train: [2][7/8]\tBT 0.987 (1.009)\tDT 0.059 (0.059)\tloss 1090.307 (1173.308)csloss 0.000 (0.000)csloss2 0.234 (0.197)csloss3 0.249 (0.206)csloss4 0.249 (0.205)\n",
      "Train: [2][8/8]\tBT 0.491 (0.944)\tDT 0.031 (0.056)\tloss 1073.974 (1166.686)csloss 0.000 (0.000)csloss2 0.246 (0.200)csloss3 0.263 (0.210)csloss4 0.263 (0.209)\n",
      "epoch 2, total time 7.55\n",
      "==> Saving...\n",
      "==> Saving...\n",
      "==> Saving...\n",
      "Train: [3][1/8]\tBT 1.041 (1.041)\tDT 0.059 (0.059)\tloss 1053.020 (1053.020)csloss 0.000 (0.000)csloss2 0.258 (0.258)csloss3 0.277 (0.277)csloss4 0.277 (0.277)\n",
      "Train: [3][2/8]\tBT 1.013 (1.027)\tDT 0.060 (0.059)\tloss 1038.920 (1045.970)csloss 0.000 (0.000)csloss2 0.270 (0.264)csloss3 0.290 (0.283)csloss4 0.291 (0.284)\n",
      "Train: [3][3/8]\tBT 1.041 (1.032)\tDT 0.059 (0.059)\tloss 1022.884 (1038.275)csloss 0.000 (0.000)csloss2 0.282 (0.270)csloss3 0.303 (0.290)csloss4 0.305 (0.291)\n",
      "Train: [3][4/8]\tBT 0.977 (1.018)\tDT 0.059 (0.059)\tloss 1009.861 (1031.171)csloss 0.000 (0.000)csloss2 0.294 (0.276)csloss3 0.317 (0.297)csloss4 0.319 (0.298)\n",
      "Train: [3][5/8]\tBT 1.040 (1.022)\tDT 0.059 (0.059)\tloss 1000.595 (1025.056)csloss 0.000 (0.000)csloss2 0.305 (0.282)csloss3 0.329 (0.303)csloss4 0.332 (0.305)\n",
      "Train: [3][6/8]\tBT 0.979 (1.015)\tDT 0.058 (0.059)\tloss 989.282 (1019.093)csloss 0.000 (0.000)csloss2 0.317 (0.288)csloss3 0.342 (0.310)csloss4 0.346 (0.312)\n"
     ]
    }
   ],
   "source": [
    "from two_modals.train import train_model\n",
    "\n",
    "import numpy as np\n",
    "latent_dim=50\n",
    "batch_size=256\n",
    "random_seed=1\n",
    "kernel_size=5 ## for cs divergence\n",
    "window_size=8\n",
    "drop=2\n",
    "weight1= 30 #weight for shared behavioral vs shared neural\n",
    "weight2= 30 #weight for private behavioral vs private neural\n",
    "\n",
    "weight3= 30 #weigth for shared behavioral vs private behavioral\n",
    "weight4= 30 #weigth for shared neural vs private neural\n",
    "print_freq=1 # print loss for every xx iterations\n",
    "epochs=10\n",
    "save_freq=2 ## save the model every xx epochs\n",
    "folder_path,behavioral_data_path,neural_data_path= '','example_data_w8.hdf5','example_data_w8.hdf5'### data_folder_location\n",
    "param=[batch_size,random_seed,latent_dim,kernel_size,weight1,weight2,weight3,weight4,window_size,drop,folder_path,behavioral_data_path,neural_data_path,print_freq,epochs,save_freq]#####weight:5, 3\n",
    "train_model(param)"
   ]
  }
 ],
 "metadata": {
  "kernelspec": {
   "display_name": "pt",
   "language": "python",
   "name": "python3"
  },
  "language_info": {
   "codemirror_mode": {
    "name": "ipython",
    "version": 3
   },
   "file_extension": ".py",
   "mimetype": "text/x-python",
   "name": "python",
   "nbconvert_exporter": "python",
   "pygments_lexer": "ipython3",
   "version": "3.10.14"
  }
 },
 "nbformat": 4,
 "nbformat_minor": 5
}
